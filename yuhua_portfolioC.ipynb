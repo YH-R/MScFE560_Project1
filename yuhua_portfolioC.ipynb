{
 "cells": [
  {
   "cell_type": "markdown",
   "id": "55527949",
   "metadata": {},
   "source": [
    "# Portfolio C: Buy AAPL (1/3) and META (1/3), short NFLX (-1/3)"
   ]
  },
  {
   "cell_type": "markdown",
   "id": "162f62b0",
   "metadata": {},
   "source": [
    "## 1. Shorting"
   ]
  },
  {
   "cell_type": "markdown",
   "id": "457de76c",
   "metadata": {},
   "source": [
    "a. Yes, the portfolio can be shorted. "
   ]
  },
  {
   "cell_type": "markdown",
   "id": "611a221f",
   "metadata": {},
   "source": [
    "b. This can be accomplished by shorting AAPL and META stocks, and buying NFLX stock."
   ]
  },
  {
   "cell_type": "markdown",
   "id": "b48491aa",
   "metadata": {},
   "source": [
    "## 2. Credit Risk"
   ]
  },
  {
   "cell_type": "markdown",
   "id": "98457efb",
   "metadata": {},
   "source": [
    "a. Yes, the portfolio has credit risk"
   ]
  },
  {
   "cell_type": "markdown",
   "id": "060ef803",
   "metadata": {},
   "source": [
    "b. There is naturally credit risk since the underlying is stocks. Although the companies involved (AAPL, META, NFLX) are part of the \"FAANG\", their prices can still change due to their performance and the public's perception of them. This will affect the price that market participants are willing to trade the portfolio for. For example, the price of AAPL might go down due to weak demand for iPhone, or the price of META might rise due to increased popularity of Instagram."
   ]
  },
  {
   "cell_type": "markdown",
   "id": "9de360f3",
   "metadata": {},
   "source": [
    "## 3. Portfolio statistics"
   ]
  },
  {
   "cell_type": "markdown",
   "id": "177e4c12",
   "metadata": {},
   "source": [
    "a. Weighted return of portfolio"
   ]
  },
  {
   "cell_type": "markdown",
   "id": "ae5145fc",
   "metadata": {},
   "source": [
    "This is like a random variable (X+Y-Z)/3, where X is the return of AAPL and Y is the return of META, and Z is the return of NFLX. Since they have the same unsigned volume, their weights are simply half. The expectation is linear, so, E[(X+Y-Z)/3] = (E[X]+E[Y]-E[Z])/3."
   ]
  },
  {
   "cell_type": "code",
   "execution_count": 1,
   "id": "19f2425b",
   "metadata": {},
   "outputs": [
    {
     "data": {
      "text/plain": [
       "0.02253282933333333"
      ]
     },
     "execution_count": 1,
     "metadata": {},
     "output_type": "execute_result"
    }
   ],
   "source": [
    "(1/3) * (0.044857944) + (1/3) * (-0.006934285) + (-1/3) * (-0.029674829)"
   ]
  },
  {
   "cell_type": "markdown",
   "id": "c82b4994",
   "metadata": {},
   "source": [
    "b. Variance of the portfolio"
   ]
  },
  {
   "cell_type": "markdown",
   "id": "6b7c7e5b",
   "metadata": {},
   "source": [
    "For 3 variables, the variance formula is"
   ]
  },
  {
   "cell_type": "markdown",
   "id": "6d313198",
   "metadata": {},
   "source": [
    "Var[(X+Y-Z)/3] = 1/9 {Var(x) + Var(Y) + Var(Z) + 2 Cov(X,Y) - 2 Cov(X,Z) - 2 Cov(Z,Y) }"
   ]
  },
  {
   "cell_type": "markdown",
   "id": "8d9f7a67",
   "metadata": {},
   "source": [
    "As an intermediate step, the covariance can be obtained from the correlation and standard deviations.\n",
    "$$Cov(X,Y) = \\rho_{XY} \\sigma_x \\sigma_y$$"
   ]
  },
  {
   "cell_type": "markdown",
   "id": "a899c1a6",
   "metadata": {},
   "source": [
    "### $Cov(X,Y) = \\rho_{XY} \\sigma_X\\sigma_Y$"
   ]
  },
  {
   "cell_type": "code",
   "execution_count": 5,
   "id": "3352ea4c",
   "metadata": {},
   "outputs": [
    {
     "data": {
      "text/plain": [
       "6.42059310817932e-05"
      ]
     },
     "execution_count": 5,
     "metadata": {},
     "output_type": "execute_result"
    }
   ],
   "source": [
    "(0.594784944) * (0.009320453) * (0.011581856)"
   ]
  },
  {
   "cell_type": "markdown",
   "id": "3029aacf",
   "metadata": {},
   "source": [
    "### $Cov(Z,Y) = \\rho_{ZY} \\sigma_Z \\sigma_Y$"
   ]
  },
  {
   "cell_type": "code",
   "execution_count": 6,
   "id": "90098198",
   "metadata": {},
   "outputs": [
    {
     "data": {
      "text/plain": [
       "7.144393944724252e-05"
      ]
     },
     "execution_count": 6,
     "metadata": {},
     "output_type": "execute_result"
    }
   ],
   "source": [
    "(0.460041141) * (0.01340882) * (0.011581856)"
   ]
  },
  {
   "cell_type": "markdown",
   "id": "437d48e9",
   "metadata": {},
   "source": [
    "### $Cov(X,Z) = \\rho_{XZ} \\sigma_X \\sigma_Z$"
   ]
  },
  {
   "cell_type": "code",
   "execution_count": 7,
   "id": "5d446378",
   "metadata": {},
   "outputs": [
    {
     "data": {
      "text/plain": [
       "6.447427228329738e-05"
      ]
     },
     "execution_count": 7,
     "metadata": {},
     "output_type": "execute_result"
    }
   ],
   "source": [
    "(0.515892088) * (0.009320453) * (0.01340882)"
   ]
  },
  {
   "cell_type": "markdown",
   "id": "687f81c0",
   "metadata": {},
   "source": [
    "The variance of the portfolio is then"
   ]
  },
  {
   "cell_type": "code",
   "execution_count": 9,
   "id": "7131ee1d",
   "metadata": {},
   "outputs": [
    {
     "data": {
      "text/plain": [
       "2.8598007146927208e-05"
      ]
     },
     "execution_count": 9,
     "metadata": {},
     "output_type": "execute_result"
    }
   ],
   "source": [
    "1/9 * ((0.009320453)**2 + (0.01340882)**2 + (0.011581856)**2 \n",
    "        + 2 *(6.42059e-5) - 2 * (7.1443939e-5) - 2 * (6.4474272e-05) )"
   ]
  },
  {
   "cell_type": "markdown",
   "id": "bd9d4f18",
   "metadata": {},
   "source": [
    "## 4. Diversification"
   ]
  },
  {
   "cell_type": "markdown",
   "id": "5d0852e9",
   "metadata": {},
   "source": [
    "a. AAPL is known for its products like iPhone and MacBook, while NFLX is a key player in the digital entertainment world. We see that there is positive correlation between AAPL and META. This is unsurprising as they are both from the tech sector. Therefore, we hope to get diversification by trading them in opposite directions."
   ]
  },
  {
   "cell_type": "markdown",
   "id": "38e5cf9c",
   "metadata": {},
   "source": [
    "b. I do not think that just these three stocks will provide sufficient diversification. Ideally, we should include stocks from different sectors or even different asset classes in our portfolio. But this three-stock portfolio is still better-diversified when compared to portfolio A, even though the portfolio variance is slightly higher. Having more companies help protect against idiosyncratic risks."
   ]
  },
  {
   "cell_type": "markdown",
   "id": "8093ac2a",
   "metadata": {},
   "source": [
    "## 5. Comparing portfolios"
   ]
  },
  {
   "cell_type": "markdown",
   "id": "d1c3df16",
   "metadata": {},
   "source": [
    "AAPL has the strongest performance, so a 33 percent by volume of AAPL makes the return of this portfolio attractive. There is also relatively good diversification, as there are three stocks here, as compared to portfolio A."
   ]
  },
  {
   "cell_type": "markdown",
   "id": "69510630",
   "metadata": {},
   "source": [
    "## 6. Assessing Risk"
   ]
  },
  {
   "cell_type": "markdown",
   "id": "0e366209",
   "metadata": {},
   "source": [
    "a. Scenario: sudden emergence of a new social media that is widely successful, say Tik Tok. People will start to use Tik Tok more and that means less time spent on Instagram. Therefore, META might suffer a drop in price."
   ]
  },
  {
   "cell_type": "markdown",
   "id": "d5753ee0",
   "metadata": {},
   "source": [
    "b. This scenario hurts only META, and the direct impact on AAPL would not be so great. Since we are long in META, our Portfolio A would do poorly."
   ]
  },
  {
   "cell_type": "markdown",
   "id": "bf9beecf",
   "metadata": {},
   "source": [
    "## 7. Performance"
   ]
  },
  {
   "cell_type": "markdown",
   "id": "63b97529",
   "metadata": {},
   "source": [
    "a. Scenario: inflation causing decrease in purchasing power. As such, people will prioritize buying essential items like food and hygeine products. Less people can afford an iPhone, and people will spend more time working than using social media. Price of both AAPL and META would hence likely drop."
   ]
  },
  {
   "cell_type": "markdown",
   "id": "f393c154",
   "metadata": {},
   "source": [
    "b. This scenario hurts both member of the portfolio. But recall that we are shorting NFLX, so that is to our advantage. The extend of damage done as a whole is hard to predict and therefore the overall price of the portfolio may either increase of decrease."
   ]
  },
  {
   "cell_type": "markdown",
   "id": "1ff62fd3",
   "metadata": {},
   "source": [
    "## 8. Disrupters"
   ]
  },
  {
   "cell_type": "markdown",
   "id": "85e239b3",
   "metadata": {},
   "source": [
    "a. Central banks regulate monetary policies and keeps inflation in check. They influence the interest rate, which is felt by the consumers. When inflation is severe, discretionary spending will drop, and likely the price of both members in the portfolio would drop."
   ]
  },
  {
   "cell_type": "markdown",
   "id": "f7658d59",
   "metadata": {},
   "source": [
    "b. Investment bank affect the individual companies in the form of loans. Companies take on loans in hopes of using them to grow quickly. If interest rates were lowered, this might mean that the companies would be more willing to take on debt, and this can allow them to grow quickly."
   ]
  },
  {
   "cell_type": "markdown",
   "id": "1cfd1705",
   "metadata": {},
   "source": [
    "## 9. Re-assessing Risk"
   ]
  },
  {
   "cell_type": "markdown",
   "id": "3a8c5a64",
   "metadata": {},
   "source": [
    "a. Yes all 3 stocks have negative skew"
   ]
  },
  {
   "cell_type": "markdown",
   "id": "5a133a26",
   "metadata": {},
   "source": [
    "b. Both types of correlation should give similar results."
   ]
  },
  {
   "cell_type": "markdown",
   "id": "23b866a8",
   "metadata": {},
   "source": []
  }
 ],
 "metadata": {
  "kernelspec": {
   "display_name": "Python 3 (ipykernel)",
   "language": "python",
   "name": "python3"
  },
  "language_info": {
   "codemirror_mode": {
    "name": "ipython",
    "version": 3
   },
   "file_extension": ".py",
   "mimetype": "text/x-python",
   "name": "python",
   "nbconvert_exporter": "python",
   "pygments_lexer": "ipython3",
   "version": "3.7.5"
  }
 },
 "nbformat": 4,
 "nbformat_minor": 5
}
