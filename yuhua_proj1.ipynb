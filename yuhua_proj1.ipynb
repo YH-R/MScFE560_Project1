{
 "cells": [
  {
   "cell_type": "code",
   "execution_count": 8,
   "id": "b2fff41f",
   "metadata": {},
   "outputs": [],
   "source": [
    "import numpy as np\n",
    "\n",
    "stock_list = [\"AAPL\",\"AMZN\",\"NFLX\",\"META\",\"GOOG\"]\n",
    "\n",
    "mean = [0.044857944,0.010361979,-0.029674829,-0.006934285,0.029035134]\n",
    "stdev = [0.009320453,0.009556763,0.01340882,0.011581856,0.00837577]\n",
    "skew = [-0.33517305,-0.312865226,-3.101653581,-1.936505944,-0.197699834]\n",
    "kurt = [5.034092588,4.729806047,41.96801484,23.28923563,4.310171108]\n",
    "\n",
    "corr_matrix = np.array([[1,0.660738586,0.460041141,0.594784944,0.698431255], \n",
    "                        [0.660738586,1,0.593812086,0.626197627,0.679322691],\n",
    "                        [0.460041141,0.593812086,1,0.515892088,0.492697083],\n",
    "                        [0.594784944,0.626197627,0.515892088,1,0.668023785],\n",
    "                        [0.698431255,0.679322691,0.492697083,0.668023785,1],])"
   ]
  },
  {
   "cell_type": "code",
   "execution_count": null,
   "id": "715e07f8",
   "metadata": {},
   "outputs": [],
   "source": []
  },
  {
   "cell_type": "code",
   "execution_count": 9,
   "id": "02564739",
   "metadata": {},
   "outputs": [
    {
     "data": {
      "text/plain": [
       "array([[1.        , 0.66073859, 0.46004114, 0.59478494, 0.69843126],\n",
       "       [0.66073859, 1.        , 0.59381209, 0.62619763, 0.67932269],\n",
       "       [0.46004114, 0.59381209, 1.        , 0.51589209, 0.49269708],\n",
       "       [0.59478494, 0.62619763, 0.51589209, 1.        , 0.66802379],\n",
       "       [0.69843126, 0.67932269, 0.49269708, 0.66802379, 1.        ]])"
      ]
     },
     "execution_count": 9,
     "metadata": {},
     "output_type": "execute_result"
    }
   ],
   "source": [
    "# testing\n",
    "corr_matrix"
   ]
  }
 ],
 "metadata": {
  "kernelspec": {
   "display_name": "Python 3 (ipykernel)",
   "language": "python",
   "name": "python3"
  },
  "language_info": {
   "codemirror_mode": {
    "name": "ipython",
    "version": 3
   },
   "file_extension": ".py",
   "mimetype": "text/x-python",
   "name": "python",
   "nbconvert_exporter": "python",
   "pygments_lexer": "ipython3",
   "version": "3.7.5"
  }
 },
 "nbformat": 4,
 "nbformat_minor": 5
}
