{
 "cells": [
  {
   "cell_type": "markdown",
   "id": "9e02202a",
   "metadata": {},
   "source": [
    "# Portfolio A: Buy AAPL and short META share in equal volume"
   ]
  },
  {
   "cell_type": "markdown",
   "id": "9a9a7259",
   "metadata": {},
   "source": [
    "## 1. Shorting"
   ]
  },
  {
   "cell_type": "markdown",
   "id": "dd366c2d",
   "metadata": {},
   "source": [
    "a. Yes, the portfolio can be shorted. "
   ]
  },
  {
   "cell_type": "markdown",
   "id": "35501bf3",
   "metadata": {},
   "source": [
    "b. This can be accomplished by shorting 1 AAPL stock and buying 1 META stock."
   ]
  },
  {
   "cell_type": "markdown",
   "id": "9d365946",
   "metadata": {},
   "source": [
    "## 2. Credit Risk"
   ]
  },
  {
   "cell_type": "markdown",
   "id": "0088d0f3",
   "metadata": {},
   "source": [
    "a. Yes, the portfolio has credit risk"
   ]
  },
  {
   "cell_type": "markdown",
   "id": "26ca3483",
   "metadata": {},
   "source": [
    "b. There is naturally credit risk since the underlying is stocks. Although the companies involved (AAPL and META) are so called \"blue chips\", their prices can still change due to their performance and the public's perception of them. This will affect the price that market participants are willing to trade the portfolio for. For example, if the price of AAPL goes down due to weak demand for iPhone, and if the price of META rises due to increased popularity of Instagram, then Portfolio A will be worth less in the eyes of investors. This is a scenario of market risk."
   ]
  },
  {
   "cell_type": "markdown",
   "id": "0c08c8ea",
   "metadata": {},
   "source": [
    "## 3. Portfolio statistics"
   ]
  },
  {
   "cell_type": "markdown",
   "id": "7631734d",
   "metadata": {},
   "source": [
    "a. Weighted return of portfolio"
   ]
  },
  {
   "cell_type": "markdown",
   "id": "bd7f34a0",
   "metadata": {},
   "source": [
    "This is like a random variable (X-Y)/2, where X is the return of AAPL and Y is the return of META. Since they have the same unsigned volume, their weights are simply half. The expectation is linear, so, E[(X-Y)/2] = (E[X]-E[Y])/2."
   ]
  },
  {
   "cell_type": "code",
   "execution_count": 9,
   "id": "c1ad1c2c",
   "metadata": {},
   "outputs": [
    {
     "data": {
      "text/plain": [
       "0.025896114499999998"
      ]
     },
     "execution_count": 9,
     "metadata": {},
     "output_type": "execute_result"
    }
   ],
   "source": [
    "(0.5) * (0.044857944) + (-0.5) * (-0.006934285)"
   ]
  },
  {
   "cell_type": "markdown",
   "id": "045e3e27",
   "metadata": {},
   "source": [
    "b. Variance of the portfolio"
   ]
  },
  {
   "cell_type": "markdown",
   "id": "baf40432",
   "metadata": {},
   "source": [
    "Similar to the formula given in class, there is a formula for variance of the difference of two variables."
   ]
  },
  {
   "cell_type": "markdown",
   "id": "345bc24e",
   "metadata": {},
   "source": [
    "Var[(X-Y)/2] = 1/4 {Var(x) + Var(Y) - 2 Cov(X,Y)}"
   ]
  },
  {
   "attachments": {},
   "cell_type": "markdown",
   "id": "8b9a35b3",
   "metadata": {},
   "source": [
    "An important ingredient, the covariance can be obtained from the correlation and standard deviations.\n",
    "$$Cov(X,Y) = \\rho \\sigma_x \\sigma_y = $$\n",
    "$$= (0.594784944) * (0.009320453) * (0.011581856)$$\n",
    "$$= (0.594784944) * (0.009320453) * (0.011581856) = 6.42059310817932e-05$$"
   ]
  },
  {
   "cell_type": "markdown",
   "id": "daddb282",
   "metadata": {},
   "source": [
    "The correlation is quite a small number. The variance of the portfolio is (formula in cell above)"
   ]
  },
  {
   "cell_type": "code",
   "execution_count": 7,
   "id": "2c7b9171",
   "metadata": {},
   "outputs": [
    {
     "data": {
      "text/plain": [
       "2.314955813248625e-05"
      ]
     },
     "execution_count": 7,
     "metadata": {},
     "output_type": "execute_result"
    }
   ],
   "source": [
    "0.25 * ((0.009320453)**2 + (0.011581856)**2 - 2 * (6.4206e-5) )"
   ]
  },
  {
   "cell_type": "markdown",
   "id": "4f1eaa76",
   "metadata": {},
   "source": [
    "## Diversification"
   ]
  },
  {
   "cell_type": "markdown",
   "id": "4d5b9164",
   "metadata": {},
   "source": [
    "a. AAPL is known for its products like iPhone and MacBook, while Meta is a key player in the social media world with the likes of Facebook and Instagram. We see that there is positive correlation between AAPL and META. This is unsurprising as they are both from the tech sector. Therefore, we hope to get diversification by trading them in opposite directions."
   ]
  },
  {
   "cell_type": "markdown",
   "id": "c0cab1b5",
   "metadata": {},
   "source": [
    "b. I do not think that just these two stocks will provide sufficient diversification. Ideally, we should include stocks from different sectors or even different asset classes in our portfolio. But this two-stock portfolio is still better-diversified when compared to either stock alone. Because of the strong positive correlation, we can lower the portfolio variance a lot by trading them in opposite directions."
   ]
  },
  {
   "cell_type": "markdown",
   "id": "7067c7b3",
   "metadata": {},
   "source": [
    "# 5. Comparing portfolios"
   ]
  },
  {
   "cell_type": "markdown",
   "id": "6bd9a3d2",
   "metadata": {},
   "source": [
    "AAPL has the strongest performance, so a 50 percent by volume of AAPL makes the return of this portfolio attractive. However, since there are only two stocks, the variance is sill comparatively large."
   ]
  },
  {
   "cell_type": "markdown",
   "id": "cc197a1f",
   "metadata": {},
   "source": [
    "# 6. Assessing Risk"
   ]
  },
  {
   "cell_type": "markdown",
   "id": "660f2cc5",
   "metadata": {},
   "source": [
    "a. Scenario: sudden emergence of a new social media that is widely successful, say Tik Tok. People will start to use Tik Tok more and that means less time spent on Instagram. Therefore, META might suffer a drop in price."
   ]
  },
  {
   "cell_type": "markdown",
   "id": "ddee4939",
   "metadata": {},
   "source": [
    "b. This scenario hurts only META, and the direct impact on AAPL would not be so great. Since we are short in META, our Portfolio A would do well."
   ]
  },
  {
   "cell_type": "markdown",
   "id": "74a5bf78",
   "metadata": {},
   "source": [
    "# 7. Performance"
   ]
  },
  {
   "cell_type": "markdown",
   "id": "19a2ccc2",
   "metadata": {},
   "source": [
    "a. Scenario: inflation causing decrease in purchasing power. As such, people will prioritize buying essential items like food and hygeine products. Less people can afford an iPhone, and people will spend more time working than using social media. Price of both AAPL and META would hence likely drop."
   ]
  },
  {
   "cell_type": "markdown",
   "id": "aad02879",
   "metadata": {},
   "source": [
    "b. This scenario hurts both member of the portfolio. But recall that we are shorting META, so that is to our advantage. The extend of damage done as a whole is hard to predict and therefore the overall price of the portfolio may either increase of decrease."
   ]
  },
  {
   "cell_type": "markdown",
   "id": "69daa350",
   "metadata": {},
   "source": [
    "# 8. Disrupters"
   ]
  },
  {
   "cell_type": "markdown",
   "id": "4f9e6435",
   "metadata": {},
   "source": [
    "a. Central banks regulate monetary policies and keeps inflation in check. They influence the interest rate, which is felt by the consumers. When inflation is severe, discretionary spending will drop, and likely the price of both members in the portfolio would drop."
   ]
  },
  {
   "cell_type": "markdown",
   "id": "5f1bd6b9",
   "metadata": {},
   "source": [
    "b. Investment bank affect the individual companies in the form of loans. Companies take on loans in hopes of using them to grow quickly. If interest rates were lowered, this might mean that the companies would be more willing to take on debt, and this can allow them to grow quickly."
   ]
  },
  {
   "cell_type": "markdown",
   "id": "07e5fffc",
   "metadata": {},
   "source": [
    "# 9. Re-assessing Risk"
   ]
  },
  {
   "cell_type": "markdown",
   "id": "964eb9e0",
   "metadata": {},
   "source": [
    "a. Yes they both have negative skew"
   ]
  },
  {
   "cell_type": "markdown",
   "id": "37f659f5",
   "metadata": {},
   "source": [
    "b. Both types of correlation should give similar results."
   ]
  },
  {
   "cell_type": "markdown",
   "id": "fe23392b",
   "metadata": {},
   "source": []
  }
 ],
 "metadata": {
  "kernelspec": {
   "display_name": "Python 3 (ipykernel)",
   "language": "python",
   "name": "python3"
  },
  "language_info": {
   "codemirror_mode": {
    "name": "ipython",
    "version": 3
   },
   "file_extension": ".py",
   "mimetype": "text/x-python",
   "name": "python",
   "nbconvert_exporter": "python",
   "pygments_lexer": "ipython3",
   "version": "3.7.5"
  }
 },
 "nbformat": 4,
 "nbformat_minor": 5
}
