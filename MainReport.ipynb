{
 "cells": [
  {
   "cell_type": "markdown",
   "id": "c940e0e6",
   "metadata": {},
   "source": [
    "# MScFE560 Financial Markets"
   ]
  },
  {
   "cell_type": "markdown",
   "id": "25e106d8",
   "metadata": {},
   "source": [
    "# Group Work Project 1"
   ]
  },
  {
   "cell_type": "markdown",
   "id": "061e88ce",
   "metadata": {},
   "source": [
    "Group Members: Yuhua Ren, Mukul Kumar \\\n",
    "Group Number: 651"
   ]
  },
  {
   "cell_type": "markdown",
   "id": "79800a09",
   "metadata": {},
   "source": [
    "Before we discuss how we went about selecting various portfolios, specifically why these stocks with these weights were considered, we have done our analysis mathematically and used coefficient of variation for deciding our portfolios. All the analysis and code can be found analysis.ipynb."
   ]
  },
  {
   "cell_type": "markdown",
   "id": "d1448ecc",
   "metadata": {},
   "source": [
    "# Portfolio A"
   ]
  },
  {
   "cell_type": "markdown",
   "id": "6944ea19",
   "metadata": {},
   "source": [
    "#### Strategy: -112% in NFLX and 212% in AAPL, i.e. When we have a dollar to invest we will first generate 1.12$ from short selling NFLX stock and use the 2.12$ to invest in AAPL stock."
   ]
  },
  {
   "cell_type": "markdown",
   "id": "37f63592",
   "metadata": {},
   "source": [
    "#### 1 a. Can this portfolio be shorted? \n",
    "$\\rightarrow$ Yes, The portfolio can be shorted."
   ]
  },
  {
   "cell_type": "markdown",
   "id": "4d7500a1",
   "metadata": {},
   "source": [
    "#### b. If it can be shorted, walk through the mechanics.\n",
    "$\\rightarrow$ Anybody holding the portfolio has the obligation to return quantity of NFLX stocks that was needed to raise 1.12\\$ at the start. If someone wants to short this portfolio, they will need to short 2.12\\$ value of AAPL stocks and buy/long 1.12\\$ value of NFLX stocks."
   ]
  },
  {
   "cell_type": "markdown",
   "id": "bfc1873d",
   "metadata": {},
   "source": [
    "#### 2. a. Does this portfolio have credit risk?\n",
    "$\\rightarrow$ Yes, the portfolio has credit risk"
   ]
  },
  {
   "cell_type": "markdown",
   "id": "c3659144",
   "metadata": {},
   "source": [
    "#### b. If it has credit risk, explain what the credit risk is.\n",
    "$\\rightarrow$ There is naturally  credit risk since the underlying is stocks. Although the companies involved (AAPL and NFLX) are so called \"blue chips\", their prices can still change due to their performance and the public's perception of them. This will affect the price that market participants are willing to trade the portfolio for. For example, if the price of AAPL goes down due to weak demand for iPhone, and if the price of NFLX rises due to increased popularity of any new popular web series or movie like Squid games, then Portfolio A will be worth less in the eyes of investors. This is a scenario of market risk. Another risk is of earning nothing significant, although both the companies are blue chips but are constantly involved hi-tech research, there is a good chance that AAPL would want to use their revenue in developing new technologies by cutting out dividends to shareholders. This way, one may not even get dividends from these stocks adn let say the opposite happens for NFLX, they decide to give dividends to their shareholders for showing faith to them, then we may have to pay much more than before to acquire same quantity of NFLX stocks to relevel our obligation of short selling."
   ]
  },
  {
   "cell_type": "markdown",
   "id": "f37382dc",
   "metadata": {},
   "source": [
    "#### 3. a. Compute the weighted return of the portfolio\n",
    "$\\rightarrow$ We know, $portfolio\\ return = w_a \\times ret_a + w_b \\times ret_b$, where $ret_a$, $ret_b$ denotes average returns from NFLX and AAPL respectively,\\\n",
    "Thus, $portfolio\\ return\\ A = -1.12 \\times -0.029674829  + 2.12 \\times 0.044857944 = 0.12833464975999992$ \\\n",
    "i.e. 12.8% of expected returns."
   ]
  },
  {
   "cell_type": "markdown",
   "id": "daa95d90",
   "metadata": {},
   "source": [
    "#### b. Compute the variance of the portfolio\n",
    "$\\rightarrow$ We know, $portfolio\\ variance = \\sigma^{2}_{p} = w_{a}^{2} * \\sigma_{a}^{2} + w_{b}^{2} * \\sigma_{b}^{2} + 2 * w_{a}* w_{b}* \\sigma_{a}*\\sigma_{b} * \\rho_{ab}$, where,\\\n",
    "$w_a$ is weight of NFLX stock,\\\n",
    "$w_b$ is weight of AAPL stock,\\\n",
    "$\\sigma_{a}$ is standard deviation of NFLX stock,\\\n",
    "$\\sigma_{b}$ is standard deviation of AAPL stock, and\\\n",
    "$\\rho_{ab}$ is the covariance between NFLX and AAPL stocks.\\\n",
    "\n",
    "Thus we have,\\\n",
    "$portfolio\\ variance = 1.12 ^ 2 * 0.01340882^2 + 2.12^2 * 0.009320453^2 + 2 * -1.12 * 2.12 * 0.009320453 * 0.01340882 * 0.593812086$\\\n",
    "$portfolio\\ variance = 0.018518650041360378^2$\n",
    "$portfolio\\ variance = 0.00034294039$\n",
    "\n",
    "\n"
   ]
  },
  {
   "cell_type": "markdown",
   "id": "95c1f53b",
   "metadata": {},
   "source": [
    "#### 4. a. Describe the diversification in words between the two assets\n",
    "$\\rightarrow$ AAPL is known for its products like iPhone and MacBook, while NFLX is a key player in the video streaming world. We see that there is positive correlation between AAPL and NFLX. This is tough to see why they are positively correlated as both deal in different sectors. One of the primary reasons for this correlation can be the fact that NFLX owns a streaming service adn we need a viewing screen for streaming videos, this is where AAPL comes into picture. AAPL provides the infrastructure in the form of iphone and macbook to let us enjoy NFLX. Therefore, we hope to get diversification by trading them in opposite directions."
   ]
  },
  {
   "cell_type": "markdown",
   "id": "0252c144",
   "metadata": {},
   "source": [
    "#### b. Do you think this portfolio is well diversified or not?\n",
    "$\\rightarrow$ Yes, to an extent they provide diversification as they both belong to different sectors. Thus it is well diversified. Because of the strong linear correlation, We can lower the portfolio variance by trading them in opposite directions.\n",
    "This provides better diversification than if we traded in only one of these stocks."
   ]
  },
  {
   "cell_type": "markdown",
   "id": "3ddc7efa",
   "metadata": {},
   "source": [
    "#### 5. a. How does your portfolio compare to the others in terms of risk?\n",
    "$\\rightarrow$ AAPL has the strongest performance, is expected to grow after launch iPhone 14, thus a higher weight on it makes sense, whereas NFLX is performing weak nowadays, is losing subscribers, and has negative returns, thus it makes much sense to short NFLX stocks. Thus in terms of risk, out portfolio will do seemingly better than others if the current trends continue. Our portfolio has the best/least coefficient of variation among all portflios that can be created using two of these stocks with one of them in short positions, thus it expected to be the best mathematically."
   ]
  },
  {
   "cell_type": "markdown",
   "id": "4e5c123d",
   "metadata": {},
   "source": [
    "#### b. How does your portfolio compare to the others in terms of return?\n",
    "$\\rightarrow$ In terms of return, our portfolio does quite well than others as we are pressing strongly on returns of AAPL, which has one of the highest positive returns and will are also pressing strongly on negative returns of NFLX. We believe that NFLX stock will give negative returns as per csv file, thus we should short on it."
   ]
  },
  {
   "cell_type": "markdown",
   "id": "1786c11b",
   "metadata": {},
   "source": [
    "#### 6. a.  Describe economic conditions or scenarios that would affect your security.\n",
    "$\\rightarrow$  With the increasing tension between China and Taiwan, If there is a war tomorrow, all the factories producing apple hardwares in china as well as semiconductors and chips produced in Taiwan will get to a hault and this may create a supply chain issue for AAPL, very similar to one that happened during COVID-19. \\\n",
    "Emergence of other streaming cost-effective streaming services like Amazon prime video, Hotstar-Disney, Hulu, etc is making NFLX loose subscribers. If NFLX is banned in some of the countries with respect to content of the show/storyline, it would make NFLX suffer a lot.\n"
   ]
  },
  {
   "cell_type": "markdown",
   "id": "8f932d2e",
   "metadata": {},
   "source": [
    "#### b. will it hurt both or not\n",
    "$\\rightarrow$ In the above dicussed scenarios it is highly unlikely that it will have significant effect on both the companies. It will have significant impact on only one of the stocks as discussed above."
   ]
  },
  {
   "cell_type": "markdown",
   "id": "48622e96",
   "metadata": {},
   "source": [
    "#### 7. a. Now describe economic conditions or scenarios that would greatly improve each security. \n",
    "$\\rightarrow$ Chinese economy is crumbling day by day as per the reports, due to which Yuan is suffering. It may be a boon for companies like AAPL for which they have a large number of factories in China, it may be easier and cheaper to them to produce AAPL hardwares in China and then sell them everywhere at the same cost.\\\n",
    "Some govt. including India are banning some social media apps like Tik Tok and other such apps over data privacy issues, this can be a great news for a platform like NFLX. Also with hike in TV cable services and cheapness of internet more people would likely be switching to NFLX.\n",
    "\n"
   ]
  },
  {
   "cell_type": "markdown",
   "id": "636d47ca",
   "metadata": {},
   "source": [
    "#### b. Determine if similar events would help one or both members of a portfolio \n",
    "$\\rightarrow$ Similar events might not help both of them at the same time as they deal in different sectors. As dicussed above, it is likely to effect only one of them. "
   ]
  },
  {
   "cell_type": "markdown",
   "id": "78966bb4",
   "metadata": {},
   "source": [
    "#### 8. a. List the potential influence the central bank may have on the portfolio.\n",
    "$\\rightarrow$ Central banks regulate monetary policies and keeps inflation in check. They influence the interest rate, which is felt by the consumers. When inflation is severe, discretionary spending will drop, and likely the prices of both members in the portfolio would drop. People might switch to cheaper alternatives. Althoug, drop in AAPL is in our favour and that of NFLX is unfavourable."
   ]
  },
  {
   "cell_type": "markdown",
   "id": "6e6d4d3a",
   "metadata": {},
   "source": [
    "#### b. List the potential influence that investment banks may have on the portfolio.\n",
    "$\\rightarrow$ Investment bank affect the individual companies in the form of loans. Companies take on loans in hopes of using them to grow quickly. If interest rates were lowered, this might mean that the companies would be more willing to take on debt, and this can allow them to grow quickly. If NFLX liked to raise capital to support different languages on its platform to reach the mass all around the world, it will ask these investment banks for the same. If investment banks hiked their interest rates, this may upset NFLX stocks."
   ]
  },
  {
   "cell_type": "markdown",
   "id": "ef88ffcf",
   "metadata": {},
   "source": [
    "#### 9. a. Do the two investments in the portfolio have the same skew?\n",
    "$\\rightarrow$ Yes, AAPL has relatively low skew of -0.33 but NFLX is highley skewed with skew -3.101. Although they have same sign so they have same skew."
   ]
  },
  {
   "cell_type": "markdown",
   "id": "a78901d1",
   "metadata": {},
   "source": [
    "#### b. is there a difference between types of Correlation?\n",
    "$\\rightarrow$ Both types of correlation should give similar results."
   ]
  },
  {
   "cell_type": "markdown",
   "id": "55527949",
   "metadata": {},
   "source": [
    "# Portfolio B"
   ]
  },
  {
   "cell_type": "markdown",
   "id": "9390df64",
   "metadata": {},
   "source": [
    "#### Strategy: 5% in GOOGL and 95% in AAPL"
   ]
  },
  {
   "cell_type": "markdown",
   "id": "162f62b0",
   "metadata": {},
   "source": [
    "#### 1 a. Can this portfolio be shorted? \n",
    "$\\rightarrow$ Yes, The portfolio can be shorted."
   ]
  },
  {
   "cell_type": "markdown",
   "id": "05f402eb",
   "metadata": {
    "notebookRunGroups": {
     "groupValue": "2"
    }
   },
   "source": [
    "#### b. If it can be shorted, walk through the mechanics.\n",
    "$\\rightarrow$  This can be accomplished by shorting both GOOGL and AAPL stocks in stocks corresponding to values in ratio of 1:19. i.e. If we want to short stocks to raise a dollar, we will do it by raising 5 cents from GOOGL and 95 cents from AAPL.\n"
   ]
  },
  {
   "cell_type": "markdown",
   "id": "bfc1873d",
   "metadata": {},
   "source": [
    "#### 2. a. Does this portfolio have credit risk?\n",
    "$\\rightarrow$ Yes, the portfolio has credit risk"
   ]
  },
  {
   "cell_type": "markdown",
   "id": "c3659144",
   "metadata": {},
   "source": [
    "#### b. If it has credit risk, explain what the credit risk is.\n",
    "$\\rightarrow$ There is naturally  credit risk since the underlying is stocks. Although the companies involved (AAPL and GOOGL) are so called \"blue chips\", their prices can still change due to their performance and the public's perception of them. This will affect the price that market participants are willing to trade the portfolio for. For example, if the price of AAPL goes down due to weak demand for iPhone, and if the price of GOOGL decreases due to less ad revenue resulting from poor state of economy, then Portfolio A will be worth less in the eyes of investors. This is a scenario of market risk. Another risk is of earning nothing significant, although both the companies are blue chips but are constantly involved in hi-tech research, there is a good chance that both AAPL and GOOGL would want to use their revenue in developing new technologies by cutting out dividends to shareholders. "
   ]
  },
  {
   "cell_type": "markdown",
   "id": "f37382dc",
   "metadata": {},
   "source": [
    "#### 3. a. Compute the weighted return of the portfolio\n",
    "$\\rightarrow$ We know, $portfolio\\ return = w_a \\times ret_a + w_b \\times ret_b$, where $ret_a$, $ret_b$ denotes average returns from GOOGL and AAPL respectively,\\\n",
    "Thus, $portfolio\\ return\\ B = 0.05 \\times 0.029035134  + 0.95 \\times 0.044857944 = 0.04406680349999999$ \\\n",
    "i.e. 4.4% of expected returns."
   ]
  },
  {
   "cell_type": "markdown",
   "id": "daa95d90",
   "metadata": {},
   "source": [
    "#### b. Compute the variance of the portfolio\n",
    "$\\rightarrow$ We know, $portfolio\\ variance = \\sigma^{2}_{p} = w_{a}^{2} * \\sigma_{a}^{2} + w_{b}^{2} * \\sigma_{b}^{2} + 2 * w_{a} * w_{b} * \\sigma_{a} *\\sigma_{b} * \\rho_{ab}$, where,\\\n",
    "$w_a$ is weight of GOOGL stock,\\\n",
    "$w_b$ is weight of AAPL stock,\\\n",
    "$\\sigma_{a}$ is standard deviation of GOOGL stock,\\\n",
    "$\\sigma_{b}$ is standard deviation of AAPL stock, and\\\n",
    "$\\rho_{ab}$ is the covariance between GOOGL and AAPL stocks.\\\n",
    "\n",
    "Thus we have,\\\n",
    "$portfolio\\ variance = 0.05 ^ 2 * 0.00837577^2 + 0.95^2 * 0.009320453^2 + 2 * 0.05 * 0.95 * 0.009320453 * 0.00837577 * 0.698431255$\\\n",
    "$portfolio\\ variance = 0.00008375607$\n",
    "\n"
   ]
  },
  {
   "cell_type": "markdown",
   "id": "95c1f53b",
   "metadata": {},
   "source": [
    "#### 4. a. Describe the diversification in words between the two assets\n",
    "$\\rightarrow$ AAPL is known for its products like iPhone and MacBook, while GOOGL owns variety of services. We see that there is positive correlation between AAPL and GOOGL. This is very easy to see why they are positively correlated as both deal in same sectors. They both operate in computer/mobile harware as well as in operating systems iOS and android.Therefore, we have very little chance of diversification here."
   ]
  },
  {
   "cell_type": "markdown",
   "id": "0252c144",
   "metadata": {},
   "source": [
    "#### b. Do you think this portfolio is well diversified or not?\n",
    "$\\rightarrow$ No, they are not, as they belong to same asset class and deal in same sector."
   ]
  },
  {
   "cell_type": "markdown",
   "id": "3ddc7efa",
   "metadata": {},
   "source": [
    "#### 5. a. How does your portfolio compare to the others in terms of risk?\n",
    "$\\rightarrow$ AAPL has the strongest performance, is expected to grow after launch iPhone 14, thus a higher weight on it makes sense, whereas GOOGL is performing weak nowadays, with poor economic conditions all around due to Russia-Ukraine war and covid-19, is struggling to get ads on their platform, and has feasily positive returns, thus it makes much sense to weith GOOGL stocks down. Thus in terms of risk, out portfolio will do seemingly good if economy all around the world recover. Our portfolio has the best/least coefficient of variation among all portflios that can be created using two of these stocks with none of them in short positions, thus it expected to be the best mathematically."
   ]
  },
  {
   "cell_type": "markdown",
   "id": "4e5c123d",
   "metadata": {},
   "source": [
    "#### b. How does your portfolio compare to the others in terms of return?\n",
    "$\\rightarrow$ In terms of return, our portfolio does quite well than others as we are pressing strongly on returns of AAPL, which has one of the highest positive returns, therefore huge weights and on the other hand GOOGL has very feable return nowadays so it has a small weight in the portfolio. "
   ]
  },
  {
   "cell_type": "markdown",
   "id": "1786c11b",
   "metadata": {},
   "source": [
    "#### 6. a.  Describe economic conditions or scenarios that would affect your security.\n",
    "$\\rightarrow$  With the increasing tension between China and Taiwan, If there is a war tomorrow, all the factories producing apple hardwares in china as well as semiconductors and chips produced in Taiwan will get to a hault and this may create a supply chain issue for AAPL as well as to GOOGL, very similar to one that happened during COVID-19. \\\n",
    "GOOGL earns the most by selling their OS android, if smartphones factories get disrupted due to war or supply chain issues, GOOGL will loose a lot.\n"
   ]
  },
  {
   "cell_type": "markdown",
   "id": "8f932d2e",
   "metadata": {},
   "source": [
    "#### b. will it hurt both or not\n",
    "$\\rightarrow$ Yes, In the above dicussed scenarios it is highly likely that it will have effect on both the companies. "
   ]
  },
  {
   "cell_type": "markdown",
   "id": "48622e96",
   "metadata": {},
   "source": [
    "#### 7. a. Now describe economic conditions or scenarios that would greatly improve each security. \n",
    "$\\rightarrow$ Chinese economy is crumbling day by day as per the reports, due to which Yuan is suffering. It may be a boon for companies like AAPL for which they have a large number of factories in China, it may be easier and cheaper to them to produce AAPL hardwares in China and then sell them everywhere at the same cost.\\\n",
    "Some govt. including India are imposing huge fine on google over security data breach and other such IT security related issues, if this trend continues, or more countries join the club, google will suffer.\n",
    "\n"
   ]
  },
  {
   "cell_type": "markdown",
   "id": "636d47ca",
   "metadata": {},
   "source": [
    "#### b. Determine if similar events would help one or both members of a portfolio \n",
    "$\\rightarrow$ Similar events help both of them at the same time as they deal in same sector. As dicussed above, it is unlikely to effect only one of them. "
   ]
  },
  {
   "cell_type": "markdown",
   "id": "78966bb4",
   "metadata": {},
   "source": [
    "#### 8. a. List the potential influence the central bank may have on the portfolio.\n",
    "$\\rightarrow$ Central banks regulate monetary policies and keeps inflation in check. They influence the interest rate, which is felt by the consumers. When inflation is severe, discretionary spending will drop, and likely the prices of both members in the portfolio would drop. "
   ]
  },
  {
   "cell_type": "markdown",
   "id": "6e6d4d3a",
   "metadata": {},
   "source": [
    "#### b. List the potential influence that investment banks may have on the portfolio.\n",
    "$\\rightarrow$ Investment bank affect the individual companies in the form of loans. Companies take on loans in hopes of using them to grow quickly. If interest rates were lowered, this might mean that the companies would be more willing to take on debt, and this can allow them to grow quickly. If for some reason these companies need to raise capital and if investment banks hiked their interest rates, it may upset both stocks."
   ]
  },
  {
   "cell_type": "markdown",
   "id": "ef88ffcf",
   "metadata": {},
   "source": [
    "#### 9. a. Do the two investments in the portfolio have the same skew?\n",
    "$\\rightarrow$ Yes, AAPL has relatively high skew of -0.33 but GOOGL is feebly skewed with skew -0.197699834. Although they have same sign so they have same skew."
   ]
  },
  {
   "cell_type": "markdown",
   "id": "a78901d1",
   "metadata": {},
   "source": [
    "#### b. is there a difference between types of Correlation?\n",
    "$\\rightarrow$ Both types of correlation should give similar results."
   ]
  },
  {
   "cell_type": "markdown",
   "id": "6d9b4017",
   "metadata": {},
   "source": [
    "## Portfolio C"
   ]
  },
  {
   "cell_type": "markdown",
   "id": "e135cfb3",
   "metadata": {},
   "source": [
    "#### Strategy: -104% in NFLX, -99% in META and 303% in AAPL"
   ]
  },
  {
   "cell_type": "markdown",
   "id": "37f63592",
   "metadata": {},
   "source": [
    "#### 1 a. Can this portfolio be shorted? \n",
    "$\\rightarrow$ Yes, The portfolio can be shorted."
   ]
  },
  {
   "cell_type": "markdown",
   "id": "4d7500a1",
   "metadata": {},
   "source": [
    "#### b. If it can be shorted, walk through the mechanics.\n",
    "$\\rightarrow$ Anybody holding the portfolio has the obligation to return quantity of NFLX stocks that was needed to raise 1.04\\$ and quantity of META to raise 0.99$ at the start. If someone wants to short this portfolio, they will need to short 3.03\\$ value of AAPL stocks and buy/long 1.04\\$ value of NFLX stocks adn 0.99$ value of META stocks."
   ]
  },
  {
   "cell_type": "markdown",
   "id": "bfc1873d",
   "metadata": {},
   "source": [
    "#### 2. a. Does this portfolio have credit risk?\n",
    "$\\rightarrow$ Yes, the portfolio has credit risk"
   ]
  },
  {
   "cell_type": "markdown",
   "id": "c3659144",
   "metadata": {},
   "source": [
    "#### b. If it has credit risk, explain what the credit risk is.\n",
    "$\\rightarrow$ There is naturally  credit risk since the underlying is stocks. Although the companies involved (AAPL, META and NFLX) are so called \"blue chips\", their prices can still change due to their performance and the public's perception of them. This will affect the price that market participants are willing to trade the portfolio for. For example, if the price of AAPL goes down due to weak demand for iPhone, and if the price of NFLX rises due to increased popularity of any new popular web series or movie like Squid games, or with increased popularity for META stocks then Portfolio A will be worth less in the eyes of investors. This is a scenario of market risk. Another risk is of earning nothing significant, although both the companies are blue chips but are constantly involved hi-tech research, there is a good chance that these companies would want to use their revenue in developing new technologies by cutting out dividends to shareholders. This way, one may not even get dividends from these stocks and let say the opposite happens for NFLX and META, i.e. they decide to give dividends to their shareholders for showing faith to them, then we may have to pay much more than before to acquire same quantity of NFLX and META stocks to relevel our obligation of short selling."
   ]
  },
  {
   "cell_type": "markdown",
   "id": "f37382dc",
   "metadata": {},
   "source": [
    "#### 3. a. Compute the weighted return of the portfolio\n",
    "$\\rightarrow$ We know, $portfolio\\ return = w_a \\times ret_a + w_b \\times ret_b + w_c \\times ret_c$ , \\\n",
    "where $ret_a$, $ret_b$ and $ret_c$ denotes average returns from NFLX,META and AAPL respectively,\\\n",
    "Thus, $portfolio\\ return\\ C = -1.04 \\times -0.029674829  + -0.99 \\times -0.006934285 + 3.03 \\times 0.044857944 = 0.173646334629999$ \\\n",
    "i.e. 17.36% of expected returns."
   ]
  },
  {
   "cell_type": "markdown",
   "id": "daa95d90",
   "metadata": {},
   "source": [
    "#### b. Compute the variance of the portfolio\n",
    "$\\rightarrow$ We know, $portfolio\\ variance = \\sigma^{2}_{p} = w_{a}^{2} * \\sigma_{a}^{2} + w_{b}^{2} * \\sigma_{b}^{2} + w_{c}^{2} * \\sigma_{c}^{2} + 2 * w_{a}* w_{b}* \\sigma_{a} *\\sigma_{b} * \\rho_{ab} + 2 * w_{a} * w_{c} * \\sigma_{a} *\\sigma_{c} * \\rho_{ac} + 2 * w_{c} * w_{b} * \\sigma_{c} *\\sigma_{c} * \\rho_{cb}$, where,\\\n",
    "$w_a$ is weight of NFLX stock,\\\n",
    "$w_b$ is weight of META stock,\\\n",
    "$w_c$ is weight of AAPL stock,\\\n",
    "$\\sigma_{a}$ is standard deviation of NFLX stock,\\\n",
    "$\\sigma_{b}$ is standard deviation of META stock, and\\\n",
    "$\\sigma_{c}$ is standard deviation of AAPL stock\\\n",
    "$\\rho_{ab}$ is the covariance between NFLX and META stocks,\\\n",
    "$\\rho_{ac}$ is the covariance between NFLX and AAPL stocks,and\\\n",
    "$\\rho_{cb}$ is the covariance between AAPL and META stocks.\n",
    "\n",
    "Thus we have,\\\n",
    "$portfolio\\ variance = 1.04 ^ 2 * 0.01340882^2 + 0.99^2 * 0.011581856^2 + 3.03^2 * 0.009320453^2 + 2 * -1.04 * 3.03 * 0.009320453 * 0.01340882 * 0.593812086 + 2 * -1.04 * -0.99 * 0.011581856 * 0.01340882 * 0.515892088 +  2 * -0.99 * 3.03 * 0.009320453 * 0.011581856 * 0.460041141$\\\n",
    "$portfolio\\ variance = 0.023257681156934735^2$\\\n",
    "$portfolio\\ variance = 0.00054091973$\n",
    "\n",
    "\n"
   ]
  },
  {
   "cell_type": "markdown",
   "id": "95c1f53b",
   "metadata": {},
   "source": [
    "#### 4. a. Describe the diversification in words between the two assets\n",
    "$\\rightarrow$ AAPL is known for its products like iPhone and MacBook, while NFLX is a key player in the video streaming world and META rules the social media world. We see that there is positiv correlation between any two of them. This is very easy to see why they are positively correlated as all of them are marquee players in technology world. We are achieving diversification here by betting on AAPL and betting against META and NFLX. These three companies deal or are specialised in 3 different sectors and thus provide us with diversification."
   ]
  },
  {
   "cell_type": "markdown",
   "id": "0252c144",
   "metadata": {},
   "source": [
    "#### b. Do you think this portfolio is well diversified or not?\n",
    "$\\rightarrow$ Yes, they provide diversification as they all belong to different sectors. Thus it is well diversified. Because of the strong linear correlation, We are lowering the portfolio variance by trading them in opposite directions. This provides better diversification than if we traded in only one of these stocks."
   ]
  },
  {
   "cell_type": "markdown",
   "id": "3ddc7efa",
   "metadata": {},
   "source": [
    "#### 5. a. How does your portfolio compare to the others in terms of risk?\n",
    "$\\rightarrow$ AAPL has the strongest performance, is expected to grow after launch iPhone 14, thus a higher weight on it makes sense, whereas NFLX and META both are performing weak nowadays, NFLX is losing subscribers, META is losing trust amongst public, and has negative returns, thus it makes much sense to short these stocks. Thus in terms of risk, out portfolio will do seemingly better than others if the current trends continue. Our portfolio has the best/least coefficient of variation among all portflios that can be created using 3 of the FAANG stocks with atleast one of them in long positions, thus it expected to be the best portflio mathematically."
   ]
  },
  {
   "cell_type": "markdown",
   "id": "4e5c123d",
   "metadata": {},
   "source": [
    "#### b. How does your portfolio compare to the others in terms of return?\n",
    "$\\rightarrow$ In terms of return, our portfolio does quite well than others as we are pressing strongly on returns of AAPL, which has one of the highest positive returns and will are also pressing strongly on negative returns of NFLX and META. We believe that NFLX stock will give negative returns as per csv file, thus we should short on it. Similar case is for META as well but NFLX has greater negative returns thus a greater negative weight as compared to META."
   ]
  },
  {
   "cell_type": "markdown",
   "id": "1786c11b",
   "metadata": {},
   "source": [
    "#### 6. a.  Describe economic conditions or scenarios that would affect your security.\n",
    "$\\rightarrow$  With the increasing tension between China and Taiwan, If there is a war tomorrow, all the factories producing apple hardwares in china as well as semiconductors and chips produced in Taiwan will get to a hault and this may create a supply chain issue for AAPL, very similar to one that happened during COVID-19. \\\n",
    "Emergence of other streaming cost-effective streaming services like Amazon prime video, Hotstar-Disney, Hulu, etc is making NFLX loose subscribers. If NFLX is banned in some of the countries with respect to content of the show/storyline, it would make NFLX suffer a lot.\n",
    "Emergence of short videos App like TikTok have certainly affected traffic on META websites, rising popularity of these type of apps are a worrying sign for META.\n"
   ]
  },
  {
   "cell_type": "markdown",
   "id": "8f932d2e",
   "metadata": {},
   "source": [
    "#### b. will it hurt both or not\n",
    "$\\rightarrow$ In the above dicussed scenarios it is highly unlikely that it will have significant effect on all or any two the companies. It will have significant impact on only one of the stocks as discussed above."
   ]
  },
  {
   "cell_type": "markdown",
   "id": "48622e96",
   "metadata": {},
   "source": [
    "#### 7. a. Now describe economic conditions or scenarios that would greatly improve each security. \n",
    "$\\rightarrow$ Chinese economy is crumbling day by day as per the reports, due to which Yuan is suffering. It may be a boon for companies like AAPL for which they have a large number of factories in China, it may be easier and cheaper to them to produce AAPL hardwares in China and then sell them everywhere at the same cost.\\\n",
    "Some govt. including India are banning some social media apps like Tik Tok and other such apps over data privacy issues, this can be a great news for a platform like NFLX. Also with hike in TV cable services and cheapness of internet more people would likely be switching to NFLX.\n",
    "Ban of these short videos app or emergence in virtual reality and concepts like metaverse can give a huge push to META in coming days.\n",
    "\n"
   ]
  },
  {
   "cell_type": "markdown",
   "id": "636d47ca",
   "metadata": {},
   "source": [
    "#### b. Determine if similar events would help one or both members of a portfolio \n",
    "$\\rightarrow$ Similar events might not help both of them at the same time as they deal in different sectors. As dicussed above, it is likely to effect only one of them. "
   ]
  },
  {
   "cell_type": "markdown",
   "id": "78966bb4",
   "metadata": {},
   "source": [
    "#### 8. a. List the potential influence the central bank may have on the portfolio.\n",
    "$\\rightarrow$ Central banks regulate monetary policies and keeps inflation in check. They influence the interest rate, which is felt by the consumers. When inflation is severe, discretionary spending will drop, and likely the prices of all the members in the portfolio would drop. People might switch to cheaper alternatives. Althoug, drop in AAPL is in our favour and that of NFLX and META is unfavourable."
   ]
  },
  {
   "cell_type": "markdown",
   "id": "6e6d4d3a",
   "metadata": {},
   "source": [
    "#### b. List the potential influence that investment banks may have on the portfolio.\n",
    "$\\rightarrow$ Investment bank affect the individual companies in the form of loans. Companies take on loans in hopes of using them to grow quickly. If interest rates were lowered, this might mean that the companies would be more willing to take on debt, and this can allow them to grow quickly. If NFLX or META liked to raise capital to support different languages on its platform, and invest in technologies like vritual reality and augmented reality to reach the mass all around the world, it will ask these investment banks for the same. If investment banks hiked their interest rates, this may upset NFLX and META stocks."
   ]
  },
  {
   "cell_type": "markdown",
   "id": "ef88ffcf",
   "metadata": {},
   "source": [
    "#### 9. a. Do the two investments in the portfolio have the same skew?\n",
    "$\\rightarrow$ Yes, AAPL has relatively low skew of -0.33 but NFLX is highley skewed with skew -3.101 and META is moderately skewed with skew -1.93. Although they have same sign so they have same skew."
   ]
  },
  {
   "cell_type": "markdown",
   "id": "a78901d1",
   "metadata": {},
   "source": [
    "#### b. is there a difference between types of Correlation?\n",
    "$\\rightarrow$ Both types of correlation should give similar results."
   ]
  }
 ],
 "metadata": {
  "kernelspec": {
   "display_name": "Python 3 (ipykernel)",
   "language": "python",
   "name": "python3"
  },
  "language_info": {
   "codemirror_mode": {
    "name": "ipython",
    "version": 3
   },
   "file_extension": ".py",
   "mimetype": "text/x-python",
   "name": "python",
   "nbconvert_exporter": "python",
   "pygments_lexer": "ipython3",
   "version": "3.7.5"
  }
 },
 "nbformat": 4,
 "nbformat_minor": 5
}
